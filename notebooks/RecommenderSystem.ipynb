{
 "metadata": {
  "language_info": {
   "codemirror_mode": {
    "name": "ipython",
    "version": 3
   },
   "file_extension": ".py",
   "mimetype": "text/x-python",
   "name": "python",
   "nbconvert_exporter": "python",
   "pygments_lexer": "ipython3",
   "version": "3.8.6-final"
  },
  "orig_nbformat": 2,
  "kernelspec": {
   "name": "python3",
   "display_name": "Python 3.8.6 64-bit ('turicreate': conda)",
   "metadata": {
    "interpreter": {
     "hash": "c6ebbf9dbeb00a1407a99e8ee91c930f7158bf932d67b0419b41c3b263807a4e"
    }
   }
  }
 },
 "nbformat": 4,
 "nbformat_minor": 2,
 "cells": [
  {
   "source": [
    "# Recommender systems\n",
    "\n",
    "A recommender system allows you to provide personalized recommendations to users. With this toolkit, you can create a model based on past interaction data and use that model to make recommendations.\n",
    "\n",
    "## Input data\n",
    "\n",
    "Creating a recommender model typically requires a data set to use for training the model, with columns that contain the user IDs, the item IDs, and (optionally) the ratings. For this example, we use the [MovieLens 20M dataset](https://grouplens.org/datasets/movielens/20m/)."
   ],
   "cell_type": "markdown",
   "metadata": {}
  },
  {
   "cell_type": "code",
   "execution_count": 1,
   "metadata": {},
   "outputs": [
    {
     "output_type": "display_data",
     "data": {
      "text/plain": "Finished parsing file /Users/caihaocui/Documents/GitHub/learning_turicreate/learning_turi_create/data/raw/ml-20m/ratings.csv",
      "text/html": "<pre>Finished parsing file /Users/caihaocui/Documents/GitHub/learning_turicreate/learning_turi_create/data/raw/ml-20m/ratings.csv</pre>"
     },
     "metadata": {}
    },
    {
     "output_type": "display_data",
     "data": {
      "text/plain": "Parsing completed. Parsed 100 lines in 0.376822 secs.",
      "text/html": "<pre>Parsing completed. Parsed 100 lines in 0.376822 secs.</pre>"
     },
     "metadata": {}
    },
    {
     "output_type": "stream",
     "name": "stdout",
     "text": [
      "------------------------------------------------------\nInferred types from first 100 line(s) of file as \ncolumn_type_hints=[int,int,float,int]\nIf parsing fails due to incorrect types, you can correct\nthe inferred type list above and pass it to read_csv in\nthe column_type_hints argument\n------------------------------------------------------\n"
     ]
    },
    {
     "output_type": "display_data",
     "data": {
      "text/plain": "Read 2042753 lines. Lines per second: 3.03486e+06",
      "text/html": "<pre>Read 2042753 lines. Lines per second: 3.03486e+06</pre>"
     },
     "metadata": {}
    },
    {
     "output_type": "display_data",
     "data": {
      "text/plain": "Finished parsing file /Users/caihaocui/Documents/GitHub/learning_turicreate/learning_turi_create/data/raw/ml-20m/ratings.csv",
      "text/html": "<pre>Finished parsing file /Users/caihaocui/Documents/GitHub/learning_turicreate/learning_turi_create/data/raw/ml-20m/ratings.csv</pre>"
     },
     "metadata": {}
    },
    {
     "output_type": "display_data",
     "data": {
      "text/plain": "Parsing completed. Parsed 20000263 lines in 3.89891 secs.",
      "text/html": "<pre>Parsing completed. Parsed 20000263 lines in 3.89891 secs.</pre>"
     },
     "metadata": {}
    }
   ],
   "source": [
    "import turicreate as tc\n",
    "actions = tc.SFrame.read_csv('../data/raw/ml-20m/ratings.csv')"
   ]
  },
  {
   "source": [
    "For information on how to load data into an SFrame from other sources, see the chapter on SFrames.\n",
    "\n",
    "You may have additional data about users or items. For example we might have a dataset of movie metadata."
   ],
   "cell_type": "markdown",
   "metadata": {}
  },
  {
   "cell_type": "code",
   "execution_count": 2,
   "metadata": {},
   "outputs": [
    {
     "output_type": "display_data",
     "data": {
      "text/plain": "Finished parsing file /Users/caihaocui/Documents/GitHub/learning_turicreate/learning_turi_create/data/raw/ml-20m/movies.csv",
      "text/html": "<pre>Finished parsing file /Users/caihaocui/Documents/GitHub/learning_turicreate/learning_turi_create/data/raw/ml-20m/movies.csv</pre>"
     },
     "metadata": {}
    },
    {
     "output_type": "display_data",
     "data": {
      "text/plain": "Parsing completed. Parsed 100 lines in 0.054765 secs.",
      "text/html": "<pre>Parsing completed. Parsed 100 lines in 0.054765 secs.</pre>"
     },
     "metadata": {}
    },
    {
     "output_type": "stream",
     "name": "stdout",
     "text": [
      "------------------------------------------------------\nInferred types from first 100 line(s) of file as \ncolumn_type_hints=[int,str,str]\nIf parsing fails due to incorrect types, you can correct\nthe inferred type list above and pass it to read_csv in\nthe column_type_hints argument\n------------------------------------------------------\n"
     ]
    },
    {
     "output_type": "display_data",
     "data": {
      "text/plain": "Finished parsing file /Users/caihaocui/Documents/GitHub/learning_turicreate/learning_turi_create/data/raw/ml-20m/movies.csv",
      "text/html": "<pre>Finished parsing file /Users/caihaocui/Documents/GitHub/learning_turicreate/learning_turi_create/data/raw/ml-20m/movies.csv</pre>"
     },
     "metadata": {}
    },
    {
     "output_type": "display_data",
     "data": {
      "text/plain": "Parsing completed. Parsed 27278 lines in 0.024282 secs.",
      "text/html": "<pre>Parsing completed. Parsed 27278 lines in 0.024282 secs.</pre>"
     },
     "metadata": {}
    }
   ],
   "source": [
    "items = tc.SFrame.read_csv('../data/raw/ml-20m/movies.csv')"
   ]
  },
  {
   "source": [
    "If you have data like this associated with each item, you can build a model from just this data using the item content recommender. In this case, providing the user and item interaction data at model creation time is optional."
   ],
   "cell_type": "markdown",
   "metadata": {}
  },
  {
   "cell_type": "code",
   "execution_count": 3,
   "metadata": {},
   "outputs": [
    {
     "output_type": "execute_result",
     "data": {
      "text/plain": [
       "Columns:\n",
       "\tuserId\tint\n",
       "\tmovieId\tint\n",
       "\trating\tfloat\n",
       "\ttimestamp\tint\n",
       "\n",
       "Rows: 20000263\n",
       "\n",
       "Data:\n",
       "+--------+---------+--------+------------+\n",
       "| userId | movieId | rating | timestamp  |\n",
       "+--------+---------+--------+------------+\n",
       "|   1    |    2    |  3.5   | 1112486027 |\n",
       "|   1    |    29   |  3.5   | 1112484676 |\n",
       "|   1    |    32   |  3.5   | 1112484819 |\n",
       "|   1    |    47   |  3.5   | 1112484727 |\n",
       "|   1    |    50   |  3.5   | 1112484580 |\n",
       "|   1    |   112   |  3.5   | 1094785740 |\n",
       "|   1    |   151   |  4.0   | 1094785734 |\n",
       "|   1    |   223   |  4.0   | 1112485573 |\n",
       "|   1    |   253   |  4.0   | 1112484940 |\n",
       "|   1    |   260   |  4.0   | 1112484826 |\n",
       "+--------+---------+--------+------------+\n",
       "[20000263 rows x 4 columns]\n",
       "Note: Only the head of the SFrame is printed.\n",
       "You can use print_rows(num_rows=m, num_columns=n) to print more rows and columns."
      ],
      "text/html": "<div style=\"max-height:1000px;max-width:1500px;overflow:auto;\"><table frame=\"box\" rules=\"cols\">\n    <tr>\n        <th style=\"padding-left: 1em; padding-right: 1em; text-align: center\">userId</th>\n        <th style=\"padding-left: 1em; padding-right: 1em; text-align: center\">movieId</th>\n        <th style=\"padding-left: 1em; padding-right: 1em; text-align: center\">rating</th>\n        <th style=\"padding-left: 1em; padding-right: 1em; text-align: center\">timestamp</th>\n    </tr>\n    <tr>\n        <td style=\"padding-left: 1em; padding-right: 1em; text-align: center; vertical-align: top\">1</td>\n        <td style=\"padding-left: 1em; padding-right: 1em; text-align: center; vertical-align: top\">2</td>\n        <td style=\"padding-left: 1em; padding-right: 1em; text-align: center; vertical-align: top\">3.5</td>\n        <td style=\"padding-left: 1em; padding-right: 1em; text-align: center; vertical-align: top\">1112486027</td>\n    </tr>\n    <tr>\n        <td style=\"padding-left: 1em; padding-right: 1em; text-align: center; vertical-align: top\">1</td>\n        <td style=\"padding-left: 1em; padding-right: 1em; text-align: center; vertical-align: top\">29</td>\n        <td style=\"padding-left: 1em; padding-right: 1em; text-align: center; vertical-align: top\">3.5</td>\n        <td style=\"padding-left: 1em; padding-right: 1em; text-align: center; vertical-align: top\">1112484676</td>\n    </tr>\n    <tr>\n        <td style=\"padding-left: 1em; padding-right: 1em; text-align: center; vertical-align: top\">1</td>\n        <td style=\"padding-left: 1em; padding-right: 1em; text-align: center; vertical-align: top\">32</td>\n        <td style=\"padding-left: 1em; padding-right: 1em; text-align: center; vertical-align: top\">3.5</td>\n        <td style=\"padding-left: 1em; padding-right: 1em; text-align: center; vertical-align: top\">1112484819</td>\n    </tr>\n    <tr>\n        <td style=\"padding-left: 1em; padding-right: 1em; text-align: center; vertical-align: top\">1</td>\n        <td style=\"padding-left: 1em; padding-right: 1em; text-align: center; vertical-align: top\">47</td>\n        <td style=\"padding-left: 1em; padding-right: 1em; text-align: center; vertical-align: top\">3.5</td>\n        <td style=\"padding-left: 1em; padding-right: 1em; text-align: center; vertical-align: top\">1112484727</td>\n    </tr>\n    <tr>\n        <td style=\"padding-left: 1em; padding-right: 1em; text-align: center; vertical-align: top\">1</td>\n        <td style=\"padding-left: 1em; padding-right: 1em; text-align: center; vertical-align: top\">50</td>\n        <td style=\"padding-left: 1em; padding-right: 1em; text-align: center; vertical-align: top\">3.5</td>\n        <td style=\"padding-left: 1em; padding-right: 1em; text-align: center; vertical-align: top\">1112484580</td>\n    </tr>\n    <tr>\n        <td style=\"padding-left: 1em; padding-right: 1em; text-align: center; vertical-align: top\">1</td>\n        <td style=\"padding-left: 1em; padding-right: 1em; text-align: center; vertical-align: top\">112</td>\n        <td style=\"padding-left: 1em; padding-right: 1em; text-align: center; vertical-align: top\">3.5</td>\n        <td style=\"padding-left: 1em; padding-right: 1em; text-align: center; vertical-align: top\">1094785740</td>\n    </tr>\n    <tr>\n        <td style=\"padding-left: 1em; padding-right: 1em; text-align: center; vertical-align: top\">1</td>\n        <td style=\"padding-left: 1em; padding-right: 1em; text-align: center; vertical-align: top\">151</td>\n        <td style=\"padding-left: 1em; padding-right: 1em; text-align: center; vertical-align: top\">4.0</td>\n        <td style=\"padding-left: 1em; padding-right: 1em; text-align: center; vertical-align: top\">1094785734</td>\n    </tr>\n    <tr>\n        <td style=\"padding-left: 1em; padding-right: 1em; text-align: center; vertical-align: top\">1</td>\n        <td style=\"padding-left: 1em; padding-right: 1em; text-align: center; vertical-align: top\">223</td>\n        <td style=\"padding-left: 1em; padding-right: 1em; text-align: center; vertical-align: top\">4.0</td>\n        <td style=\"padding-left: 1em; padding-right: 1em; text-align: center; vertical-align: top\">1112485573</td>\n    </tr>\n    <tr>\n        <td style=\"padding-left: 1em; padding-right: 1em; text-align: center; vertical-align: top\">1</td>\n        <td style=\"padding-left: 1em; padding-right: 1em; text-align: center; vertical-align: top\">253</td>\n        <td style=\"padding-left: 1em; padding-right: 1em; text-align: center; vertical-align: top\">4.0</td>\n        <td style=\"padding-left: 1em; padding-right: 1em; text-align: center; vertical-align: top\">1112484940</td>\n    </tr>\n    <tr>\n        <td style=\"padding-left: 1em; padding-right: 1em; text-align: center; vertical-align: top\">1</td>\n        <td style=\"padding-left: 1em; padding-right: 1em; text-align: center; vertical-align: top\">260</td>\n        <td style=\"padding-left: 1em; padding-right: 1em; text-align: center; vertical-align: top\">4.0</td>\n        <td style=\"padding-left: 1em; padding-right: 1em; text-align: center; vertical-align: top\">1112484826</td>\n    </tr>\n</table>\n[20000263 rows x 4 columns]<br/>Note: Only the head of the SFrame is printed.<br/>You can use print_rows(num_rows=m, num_columns=n) to print more rows and columns.\n</div>"
     },
     "metadata": {},
     "execution_count": 3
    }
   ],
   "source": [
    "actions"
   ]
  },
  {
   "cell_type": "code",
   "execution_count": 4,
   "metadata": {},
   "outputs": [
    {
     "output_type": "execute_result",
     "data": {
      "text/plain": [
       "Columns:\n",
       "\tmovieId\tint\n",
       "\ttitle\tstr\n",
       "\tgenres\tstr\n",
       "\n",
       "Rows: 27278\n",
       "\n",
       "Data:\n",
       "+---------+-------------------------------+-------------------------------+\n",
       "| movieId |             title             |             genres            |\n",
       "+---------+-------------------------------+-------------------------------+\n",
       "|    1    |        Toy Story (1995)       | Adventure|Animation|Childr... |\n",
       "|    2    |         Jumanji (1995)        |   Adventure|Children|Fantasy  |\n",
       "|    3    |    Grumpier Old Men (1995)    |         Comedy|Romance        |\n",
       "|    4    |    Waiting to Exhale (1995)   |      Comedy|Drama|Romance     |\n",
       "|    5    | Father of the Bride Part I... |             Comedy            |\n",
       "|    6    |          Heat (1995)          |     Action|Crime|Thriller     |\n",
       "|    7    |         Sabrina (1995)        |         Comedy|Romance        |\n",
       "|    8    |      Tom and Huck (1995)      |       Adventure|Children      |\n",
       "|    9    |      Sudden Death (1995)      |             Action            |\n",
       "|    10   |        GoldenEye (1995)       |   Action|Adventure|Thriller   |\n",
       "+---------+-------------------------------+-------------------------------+\n",
       "[27278 rows x 3 columns]\n",
       "Note: Only the head of the SFrame is printed.\n",
       "You can use print_rows(num_rows=m, num_columns=n) to print more rows and columns."
      ],
      "text/html": "<div style=\"max-height:1000px;max-width:1500px;overflow:auto;\"><table frame=\"box\" rules=\"cols\">\n    <tr>\n        <th style=\"padding-left: 1em; padding-right: 1em; text-align: center\">movieId</th>\n        <th style=\"padding-left: 1em; padding-right: 1em; text-align: center\">title</th>\n        <th style=\"padding-left: 1em; padding-right: 1em; text-align: center\">genres</th>\n    </tr>\n    <tr>\n        <td style=\"padding-left: 1em; padding-right: 1em; text-align: center; vertical-align: top\">1</td>\n        <td style=\"padding-left: 1em; padding-right: 1em; text-align: center; vertical-align: top\">Toy Story (1995)</td>\n        <td style=\"padding-left: 1em; padding-right: 1em; text-align: center; vertical-align: top\">Adventure|Animation|Child<br>ren|Comedy|Fantasy ...</td>\n    </tr>\n    <tr>\n        <td style=\"padding-left: 1em; padding-right: 1em; text-align: center; vertical-align: top\">2</td>\n        <td style=\"padding-left: 1em; padding-right: 1em; text-align: center; vertical-align: top\">Jumanji (1995)</td>\n        <td style=\"padding-left: 1em; padding-right: 1em; text-align: center; vertical-align: top\">Adventure|Children|Fantas<br>y ...</td>\n    </tr>\n    <tr>\n        <td style=\"padding-left: 1em; padding-right: 1em; text-align: center; vertical-align: top\">3</td>\n        <td style=\"padding-left: 1em; padding-right: 1em; text-align: center; vertical-align: top\">Grumpier Old Men (1995)</td>\n        <td style=\"padding-left: 1em; padding-right: 1em; text-align: center; vertical-align: top\">Comedy|Romance</td>\n    </tr>\n    <tr>\n        <td style=\"padding-left: 1em; padding-right: 1em; text-align: center; vertical-align: top\">4</td>\n        <td style=\"padding-left: 1em; padding-right: 1em; text-align: center; vertical-align: top\">Waiting to Exhale (1995)</td>\n        <td style=\"padding-left: 1em; padding-right: 1em; text-align: center; vertical-align: top\">Comedy|Drama|Romance</td>\n    </tr>\n    <tr>\n        <td style=\"padding-left: 1em; padding-right: 1em; text-align: center; vertical-align: top\">5</td>\n        <td style=\"padding-left: 1em; padding-right: 1em; text-align: center; vertical-align: top\">Father of the Bride Part<br>II (1995) ...</td>\n        <td style=\"padding-left: 1em; padding-right: 1em; text-align: center; vertical-align: top\">Comedy</td>\n    </tr>\n    <tr>\n        <td style=\"padding-left: 1em; padding-right: 1em; text-align: center; vertical-align: top\">6</td>\n        <td style=\"padding-left: 1em; padding-right: 1em; text-align: center; vertical-align: top\">Heat (1995)</td>\n        <td style=\"padding-left: 1em; padding-right: 1em; text-align: center; vertical-align: top\">Action|Crime|Thriller</td>\n    </tr>\n    <tr>\n        <td style=\"padding-left: 1em; padding-right: 1em; text-align: center; vertical-align: top\">7</td>\n        <td style=\"padding-left: 1em; padding-right: 1em; text-align: center; vertical-align: top\">Sabrina (1995)</td>\n        <td style=\"padding-left: 1em; padding-right: 1em; text-align: center; vertical-align: top\">Comedy|Romance</td>\n    </tr>\n    <tr>\n        <td style=\"padding-left: 1em; padding-right: 1em; text-align: center; vertical-align: top\">8</td>\n        <td style=\"padding-left: 1em; padding-right: 1em; text-align: center; vertical-align: top\">Tom and Huck (1995)</td>\n        <td style=\"padding-left: 1em; padding-right: 1em; text-align: center; vertical-align: top\">Adventure|Children</td>\n    </tr>\n    <tr>\n        <td style=\"padding-left: 1em; padding-right: 1em; text-align: center; vertical-align: top\">9</td>\n        <td style=\"padding-left: 1em; padding-right: 1em; text-align: center; vertical-align: top\">Sudden Death (1995)</td>\n        <td style=\"padding-left: 1em; padding-right: 1em; text-align: center; vertical-align: top\">Action</td>\n    </tr>\n    <tr>\n        <td style=\"padding-left: 1em; padding-right: 1em; text-align: center; vertical-align: top\">10</td>\n        <td style=\"padding-left: 1em; padding-right: 1em; text-align: center; vertical-align: top\">GoldenEye (1995)</td>\n        <td style=\"padding-left: 1em; padding-right: 1em; text-align: center; vertical-align: top\">Action|Adventure|Thriller</td>\n    </tr>\n</table>\n[27278 rows x 3 columns]<br/>Note: Only the head of the SFrame is printed.<br/>You can use print_rows(num_rows=m, num_columns=n) to print more rows and columns.\n</div>"
     },
     "metadata": {},
     "execution_count": 4
    }
   ],
   "source": [
    "items"
   ]
  },
  {
   "source": [
    "## Creating a model\n",
    "\n",
    "There are a variety of machine learning techniques that can be used to build a recommender model. Turi Create provides a method turicreate.recommender.create that will automatically choose an appropriate model for your data set.\n",
    "\n",
    "First we create a random split of the data to produce a validation set that can be used to evaluate the model."
   ],
   "cell_type": "markdown",
   "metadata": {}
  },
  {
   "cell_type": "code",
   "execution_count": 5,
   "metadata": {},
   "outputs": [
    {
     "output_type": "display_data",
     "data": {
      "text/plain": "Warning: Ignoring columns rating, timestamp;",
      "text/html": "<pre>Warning: Ignoring columns rating, timestamp;</pre>"
     },
     "metadata": {}
    },
    {
     "output_type": "display_data",
     "data": {
      "text/plain": " To use one of these as a rating column, specify the column name to be used as target",
      "text/html": "<pre> To use one of these as a rating column, specify the column name to be used as target</pre>"
     },
     "metadata": {}
    },
    {
     "output_type": "display_data",
     "data": {
      "text/plain": "    and use a method that allows the use of a target.",
      "text/html": "<pre>    and use a method that allows the use of a target.</pre>"
     },
     "metadata": {}
    },
    {
     "output_type": "display_data",
     "data": {
      "text/plain": "Preparing data set.",
      "text/html": "<pre>Preparing data set.</pre>"
     },
     "metadata": {}
    },
    {
     "output_type": "display_data",
     "data": {
      "text/plain": "    Data has 19970212 observations with 138493 users and 26657 items.",
      "text/html": "<pre>    Data has 19970212 observations with 138493 users and 26657 items.</pre>"
     },
     "metadata": {}
    },
    {
     "output_type": "display_data",
     "data": {
      "text/plain": "    Data prepared in: 6.43304s",
      "text/html": "<pre>    Data prepared in: 6.43304s</pre>"
     },
     "metadata": {}
    },
    {
     "output_type": "display_data",
     "data": {
      "text/plain": "Training model from provided data.",
      "text/html": "<pre>Training model from provided data.</pre>"
     },
     "metadata": {}
    },
    {
     "output_type": "display_data",
     "data": {
      "text/plain": "Gathering per-item and per-user statistics.",
      "text/html": "<pre>Gathering per-item and per-user statistics.</pre>"
     },
     "metadata": {}
    },
    {
     "output_type": "display_data",
     "data": {
      "text/plain": "+--------------------------------+------------+",
      "text/html": "<pre>+--------------------------------+------------+</pre>"
     },
     "metadata": {}
    },
    {
     "output_type": "display_data",
     "data": {
      "text/plain": "| Elapsed Time (Item Statistics) | % Complete |",
      "text/html": "<pre>| Elapsed Time (Item Statistics) | % Complete |</pre>"
     },
     "metadata": {}
    },
    {
     "output_type": "display_data",
     "data": {
      "text/plain": "+--------------------------------+------------+",
      "text/html": "<pre>+--------------------------------+------------+</pre>"
     },
     "metadata": {}
    },
    {
     "output_type": "display_data",
     "data": {
      "text/plain": "| 2.732ms                        | 0.5        |",
      "text/html": "<pre>| 2.732ms                        | 0.5        |</pre>"
     },
     "metadata": {}
    },
    {
     "output_type": "display_data",
     "data": {
      "text/plain": "| 322.813ms                      | 100        |",
      "text/html": "<pre>| 322.813ms                      | 100        |</pre>"
     },
     "metadata": {}
    },
    {
     "output_type": "display_data",
     "data": {
      "text/plain": "+--------------------------------+------------+",
      "text/html": "<pre>+--------------------------------+------------+</pre>"
     },
     "metadata": {}
    },
    {
     "output_type": "display_data",
     "data": {
      "text/plain": "Setting up lookup tables.",
      "text/html": "<pre>Setting up lookup tables.</pre>"
     },
     "metadata": {}
    },
    {
     "output_type": "display_data",
     "data": {
      "text/plain": "Processing data in one pass using dense lookup tables.",
      "text/html": "<pre>Processing data in one pass using dense lookup tables.</pre>"
     },
     "metadata": {}
    },
    {
     "output_type": "display_data",
     "data": {
      "text/plain": "+-------------------------------------+------------------+-----------------+",
      "text/html": "<pre>+-------------------------------------+------------------+-----------------+</pre>"
     },
     "metadata": {}
    },
    {
     "output_type": "display_data",
     "data": {
      "text/plain": "| Elapsed Time (Constructing Lookups) | Total % Complete | Items Processed |",
      "text/html": "<pre>| Elapsed Time (Constructing Lookups) | Total % Complete | Items Processed |</pre>"
     },
     "metadata": {}
    },
    {
     "output_type": "display_data",
     "data": {
      "text/plain": "+-------------------------------------+------------------+-----------------+",
      "text/html": "<pre>+-------------------------------------+------------------+-----------------+</pre>"
     },
     "metadata": {}
    },
    {
     "output_type": "display_data",
     "data": {
      "text/plain": "| 2.13s                               | 0                | 0               |",
      "text/html": "<pre>| 2.13s                               | 0                | 0               |</pre>"
     },
     "metadata": {}
    },
    {
     "output_type": "display_data",
     "data": {
      "text/plain": "| 5.13s                               | 6.5              | 1792            |",
      "text/html": "<pre>| 5.13s                               | 6.5              | 1792            |</pre>"
     },
     "metadata": {}
    },
    {
     "output_type": "display_data",
     "data": {
      "text/plain": "| 8.13s                               | 15.25            | 4095            |",
      "text/html": "<pre>| 8.13s                               | 15.25            | 4095            |</pre>"
     },
     "metadata": {}
    },
    {
     "output_type": "display_data",
     "data": {
      "text/plain": "| 11.13s                              | 24               | 6411            |",
      "text/html": "<pre>| 11.13s                              | 24               | 6411            |</pre>"
     },
     "metadata": {}
    },
    {
     "output_type": "display_data",
     "data": {
      "text/plain": "| 14.13s                              | 33.25            | 8879            |",
      "text/html": "<pre>| 14.13s                              | 33.25            | 8879            |</pre>"
     },
     "metadata": {}
    },
    {
     "output_type": "display_data",
     "data": {
      "text/plain": "| 17.13s                              | 42               | 11222           |",
      "text/html": "<pre>| 17.13s                              | 42               | 11222           |</pre>"
     },
     "metadata": {}
    },
    {
     "output_type": "display_data",
     "data": {
      "text/plain": "| 20.13s                              | 49.75            | 13262           |",
      "text/html": "<pre>| 20.13s                              | 49.75            | 13262           |</pre>"
     },
     "metadata": {}
    },
    {
     "output_type": "display_data",
     "data": {
      "text/plain": "| 23.13s                              | 58               | 15503           |",
      "text/html": "<pre>| 23.13s                              | 58               | 15503           |</pre>"
     },
     "metadata": {}
    },
    {
     "output_type": "display_data",
     "data": {
      "text/plain": "| 26.13s                              | 67.5             | 18015           |",
      "text/html": "<pre>| 26.13s                              | 67.5             | 18015           |</pre>"
     },
     "metadata": {}
    },
    {
     "output_type": "display_data",
     "data": {
      "text/plain": "| 29.13s                              | 76.5             | 20438           |",
      "text/html": "<pre>| 29.13s                              | 76.5             | 20438           |</pre>"
     },
     "metadata": {}
    },
    {
     "output_type": "display_data",
     "data": {
      "text/plain": "| 32.13s                              | 85.75            | 22899           |",
      "text/html": "<pre>| 32.13s                              | 85.75            | 22899           |</pre>"
     },
     "metadata": {}
    },
    {
     "output_type": "display_data",
     "data": {
      "text/plain": "| 35.13s                              | 95.25            | 25434           |",
      "text/html": "<pre>| 35.13s                              | 95.25            | 25434           |</pre>"
     },
     "metadata": {}
    },
    {
     "output_type": "display_data",
     "data": {
      "text/plain": "| 39.38s                              | 100              | 26657           |",
      "text/html": "<pre>| 39.38s                              | 100              | 26657           |</pre>"
     },
     "metadata": {}
    },
    {
     "output_type": "display_data",
     "data": {
      "text/plain": "+-------------------------------------+------------------+-----------------+",
      "text/html": "<pre>+-------------------------------------+------------------+-----------------+</pre>"
     },
     "metadata": {}
    },
    {
     "output_type": "display_data",
     "data": {
      "text/plain": "Finalizing lookup tables.",
      "text/html": "<pre>Finalizing lookup tables.</pre>"
     },
     "metadata": {}
    },
    {
     "output_type": "display_data",
     "data": {
      "text/plain": "Generating candidate set for working with new users.",
      "text/html": "<pre>Generating candidate set for working with new users.</pre>"
     },
     "metadata": {}
    },
    {
     "output_type": "display_data",
     "data": {
      "text/plain": "Finished training in 40.8575s",
      "text/html": "<pre>Finished training in 40.8575s</pre>"
     },
     "metadata": {}
    }
   ],
   "source": [
    "training_data, validation_data = tc.recommender.util.random_split_by_user(actions, 'userId', 'movieId')\n",
    "model = tc.recommender.create(training_data, 'userId', 'movieId')"
   ]
  },
  {
   "source": [
    "Now that you have a model, you can make recommendations\n",
    "\n"
   ],
   "cell_type": "markdown",
   "metadata": {}
  },
  {
   "cell_type": "code",
   "execution_count": 11,
   "metadata": {},
   "outputs": [
    {
     "output_type": "execute_result",
     "data": {
      "text/plain": [
       "Columns:\n",
       "\tuserId\tint\n",
       "\tmovieId\tint\n",
       "\trating\tfloat\n",
       "\ttimestamp\tint\n",
       "\n",
       "Rows: 20000263\n",
       "\n",
       "Data:\n",
       "+--------+---------+--------+------------+\n",
       "| userId | movieId | rating | timestamp  |\n",
       "+--------+---------+--------+------------+\n",
       "|   1    |    2    |  3.5   | 1112486027 |\n",
       "|   1    |    29   |  3.5   | 1112484676 |\n",
       "|   1    |    32   |  3.5   | 1112484819 |\n",
       "|   1    |    47   |  3.5   | 1112484727 |\n",
       "|   1    |    50   |  3.5   | 1112484580 |\n",
       "|   1    |   112   |  3.5   | 1094785740 |\n",
       "|   1    |   151   |  4.0   | 1094785734 |\n",
       "|   1    |   223   |  4.0   | 1112485573 |\n",
       "|   1    |   253   |  4.0   | 1112484940 |\n",
       "|   1    |   260   |  4.0   | 1112484826 |\n",
       "+--------+---------+--------+------------+\n",
       "[20000263 rows x 4 columns]\n",
       "Note: Only the head of the SFrame is printed.\n",
       "You can use print_rows(num_rows=m, num_columns=n) to print more rows and columns."
      ],
      "text/html": "<div style=\"max-height:1000px;max-width:1500px;overflow:auto;\"><table frame=\"box\" rules=\"cols\">\n    <tr>\n        <th style=\"padding-left: 1em; padding-right: 1em; text-align: center\">userId</th>\n        <th style=\"padding-left: 1em; padding-right: 1em; text-align: center\">movieId</th>\n        <th style=\"padding-left: 1em; padding-right: 1em; text-align: center\">rating</th>\n        <th style=\"padding-left: 1em; padding-right: 1em; text-align: center\">timestamp</th>\n    </tr>\n    <tr>\n        <td style=\"padding-left: 1em; padding-right: 1em; text-align: center; vertical-align: top\">1</td>\n        <td style=\"padding-left: 1em; padding-right: 1em; text-align: center; vertical-align: top\">2</td>\n        <td style=\"padding-left: 1em; padding-right: 1em; text-align: center; vertical-align: top\">3.5</td>\n        <td style=\"padding-left: 1em; padding-right: 1em; text-align: center; vertical-align: top\">1112486027</td>\n    </tr>\n    <tr>\n        <td style=\"padding-left: 1em; padding-right: 1em; text-align: center; vertical-align: top\">1</td>\n        <td style=\"padding-left: 1em; padding-right: 1em; text-align: center; vertical-align: top\">29</td>\n        <td style=\"padding-left: 1em; padding-right: 1em; text-align: center; vertical-align: top\">3.5</td>\n        <td style=\"padding-left: 1em; padding-right: 1em; text-align: center; vertical-align: top\">1112484676</td>\n    </tr>\n    <tr>\n        <td style=\"padding-left: 1em; padding-right: 1em; text-align: center; vertical-align: top\">1</td>\n        <td style=\"padding-left: 1em; padding-right: 1em; text-align: center; vertical-align: top\">32</td>\n        <td style=\"padding-left: 1em; padding-right: 1em; text-align: center; vertical-align: top\">3.5</td>\n        <td style=\"padding-left: 1em; padding-right: 1em; text-align: center; vertical-align: top\">1112484819</td>\n    </tr>\n    <tr>\n        <td style=\"padding-left: 1em; padding-right: 1em; text-align: center; vertical-align: top\">1</td>\n        <td style=\"padding-left: 1em; padding-right: 1em; text-align: center; vertical-align: top\">47</td>\n        <td style=\"padding-left: 1em; padding-right: 1em; text-align: center; vertical-align: top\">3.5</td>\n        <td style=\"padding-left: 1em; padding-right: 1em; text-align: center; vertical-align: top\">1112484727</td>\n    </tr>\n    <tr>\n        <td style=\"padding-left: 1em; padding-right: 1em; text-align: center; vertical-align: top\">1</td>\n        <td style=\"padding-left: 1em; padding-right: 1em; text-align: center; vertical-align: top\">50</td>\n        <td style=\"padding-left: 1em; padding-right: 1em; text-align: center; vertical-align: top\">3.5</td>\n        <td style=\"padding-left: 1em; padding-right: 1em; text-align: center; vertical-align: top\">1112484580</td>\n    </tr>\n    <tr>\n        <td style=\"padding-left: 1em; padding-right: 1em; text-align: center; vertical-align: top\">1</td>\n        <td style=\"padding-left: 1em; padding-right: 1em; text-align: center; vertical-align: top\">112</td>\n        <td style=\"padding-left: 1em; padding-right: 1em; text-align: center; vertical-align: top\">3.5</td>\n        <td style=\"padding-left: 1em; padding-right: 1em; text-align: center; vertical-align: top\">1094785740</td>\n    </tr>\n    <tr>\n        <td style=\"padding-left: 1em; padding-right: 1em; text-align: center; vertical-align: top\">1</td>\n        <td style=\"padding-left: 1em; padding-right: 1em; text-align: center; vertical-align: top\">151</td>\n        <td style=\"padding-left: 1em; padding-right: 1em; text-align: center; vertical-align: top\">4.0</td>\n        <td style=\"padding-left: 1em; padding-right: 1em; text-align: center; vertical-align: top\">1094785734</td>\n    </tr>\n    <tr>\n        <td style=\"padding-left: 1em; padding-right: 1em; text-align: center; vertical-align: top\">1</td>\n        <td style=\"padding-left: 1em; padding-right: 1em; text-align: center; vertical-align: top\">223</td>\n        <td style=\"padding-left: 1em; padding-right: 1em; text-align: center; vertical-align: top\">4.0</td>\n        <td style=\"padding-left: 1em; padding-right: 1em; text-align: center; vertical-align: top\">1112485573</td>\n    </tr>\n    <tr>\n        <td style=\"padding-left: 1em; padding-right: 1em; text-align: center; vertical-align: top\">1</td>\n        <td style=\"padding-left: 1em; padding-right: 1em; text-align: center; vertical-align: top\">253</td>\n        <td style=\"padding-left: 1em; padding-right: 1em; text-align: center; vertical-align: top\">4.0</td>\n        <td style=\"padding-left: 1em; padding-right: 1em; text-align: center; vertical-align: top\">1112484940</td>\n    </tr>\n    <tr>\n        <td style=\"padding-left: 1em; padding-right: 1em; text-align: center; vertical-align: top\">1</td>\n        <td style=\"padding-left: 1em; padding-right: 1em; text-align: center; vertical-align: top\">260</td>\n        <td style=\"padding-left: 1em; padding-right: 1em; text-align: center; vertical-align: top\">4.0</td>\n        <td style=\"padding-left: 1em; padding-right: 1em; text-align: center; vertical-align: top\">1112484826</td>\n    </tr>\n</table>\n[20000263 rows x 4 columns]<br/>Note: Only the head of the SFrame is printed.<br/>You can use print_rows(num_rows=m, num_columns=n) to print more rows and columns.\n</div>"
     },
     "metadata": {},
     "execution_count": 11
    }
   ],
   "source": [
    " actions"
   ]
  },
  {
   "cell_type": "code",
   "execution_count": 16,
   "metadata": {},
   "outputs": [
    {
     "output_type": "execute_result",
     "data": {
      "text/plain": [
       "Columns:\n",
       "\tuserId\tint\n",
       "\tmovieId\tint\n",
       "\trating\tfloat\n",
       "\ttimestamp\tint\n",
       "\n",
       "Rows: 1\n",
       "\n",
       "Data:\n",
       "+--------+---------+--------+------------+\n",
       "| userId | movieId | rating | timestamp  |\n",
       "+--------+---------+--------+------------+\n",
       "|   1    |    2    |  3.5   | 1112486027 |\n",
       "+--------+---------+--------+------------+\n",
       "[1 rows x 4 columns]"
      ],
      "text/html": "<div style=\"max-height:1000px;max-width:1500px;overflow:auto;\"><table frame=\"box\" rules=\"cols\">\n    <tr>\n        <th style=\"padding-left: 1em; padding-right: 1em; text-align: center\">userId</th>\n        <th style=\"padding-left: 1em; padding-right: 1em; text-align: center\">movieId</th>\n        <th style=\"padding-left: 1em; padding-right: 1em; text-align: center\">rating</th>\n        <th style=\"padding-left: 1em; padding-right: 1em; text-align: center\">timestamp</th>\n    </tr>\n    <tr>\n        <td style=\"padding-left: 1em; padding-right: 1em; text-align: center; vertical-align: top\">1</td>\n        <td style=\"padding-left: 1em; padding-right: 1em; text-align: center; vertical-align: top\">2</td>\n        <td style=\"padding-left: 1em; padding-right: 1em; text-align: center; vertical-align: top\">3.5</td>\n        <td style=\"padding-left: 1em; padding-right: 1em; text-align: center; vertical-align: top\">1112486027</td>\n    </tr>\n</table>\n[1 rows x 4 columns]<br/>\n</div>"
     },
     "metadata": {},
     "execution_count": 16
    }
   ],
   "source": [
    "x = actions.head(1)\n",
    "x"
   ]
  },
  {
   "cell_type": "code",
   "execution_count": 22,
   "metadata": {},
   "outputs": [
    {
     "output_type": "display_data",
     "data": {
      "text/plain": "recommendations finished on 1000/138493 queries. users per second: 11334.5",
      "text/html": "<pre>recommendations finished on 1000/138493 queries. users per second: 11334.5</pre>"
     },
     "metadata": {}
    },
    {
     "output_type": "display_data",
     "data": {
      "text/plain": "recommendations finished on 2000/138493 queries. users per second: 10372.3",
      "text/html": "<pre>recommendations finished on 2000/138493 queries. users per second: 10372.3</pre>"
     },
     "metadata": {}
    },
    {
     "output_type": "display_data",
     "data": {
      "text/plain": "recommendations finished on 3000/138493 queries. users per second: 10940",
      "text/html": "<pre>recommendations finished on 3000/138493 queries. users per second: 10940</pre>"
     },
     "metadata": {}
    },
    {
     "output_type": "display_data",
     "data": {
      "text/plain": "recommendations finished on 4000/138493 queries. users per second: 10319.5",
      "text/html": "<pre>recommendations finished on 4000/138493 queries. users per second: 10319.5</pre>"
     },
     "metadata": {}
    },
    {
     "output_type": "display_data",
     "data": {
      "text/plain": "recommendations finished on 5000/138493 queries. users per second: 10749.4",
      "text/html": "<pre>recommendations finished on 5000/138493 queries. users per second: 10749.4</pre>"
     },
     "metadata": {}
    },
    {
     "output_type": "display_data",
     "data": {
      "text/plain": "recommendations finished on 6000/138493 queries. users per second: 11125.2",
      "text/html": "<pre>recommendations finished on 6000/138493 queries. users per second: 11125.2</pre>"
     },
     "metadata": {}
    },
    {
     "output_type": "display_data",
     "data": {
      "text/plain": "recommendations finished on 7000/138493 queries. users per second: 11609.7",
      "text/html": "<pre>recommendations finished on 7000/138493 queries. users per second: 11609.7</pre>"
     },
     "metadata": {}
    },
    {
     "output_type": "display_data",
     "data": {
      "text/plain": "recommendations finished on 8000/138493 queries. users per second: 11952.9",
      "text/html": "<pre>recommendations finished on 8000/138493 queries. users per second: 11952.9</pre>"
     },
     "metadata": {}
    },
    {
     "output_type": "display_data",
     "data": {
      "text/plain": "recommendations finished on 9000/138493 queries. users per second: 12239.6",
      "text/html": "<pre>recommendations finished on 9000/138493 queries. users per second: 12239.6</pre>"
     },
     "metadata": {}
    },
    {
     "output_type": "display_data",
     "data": {
      "text/plain": "recommendations finished on 10000/138493 queries. users per second: 12294.3",
      "text/html": "<pre>recommendations finished on 10000/138493 queries. users per second: 12294.3</pre>"
     },
     "metadata": {}
    },
    {
     "output_type": "display_data",
     "data": {
      "text/plain": "recommendations finished on 11000/138493 queries. users per second: 12490.3",
      "text/html": "<pre>recommendations finished on 11000/138493 queries. users per second: 12490.3</pre>"
     },
     "metadata": {}
    },
    {
     "output_type": "display_data",
     "data": {
      "text/plain": "recommendations finished on 12000/138493 queries. users per second: 12688.4",
      "text/html": "<pre>recommendations finished on 12000/138493 queries. users per second: 12688.4</pre>"
     },
     "metadata": {}
    },
    {
     "output_type": "display_data",
     "data": {
      "text/plain": "recommendations finished on 13000/138493 queries. users per second: 12858",
      "text/html": "<pre>recommendations finished on 13000/138493 queries. users per second: 12858</pre>"
     },
     "metadata": {}
    },
    {
     "output_type": "display_data",
     "data": {
      "text/plain": "recommendations finished on 14000/138493 queries. users per second: 12914.2",
      "text/html": "<pre>recommendations finished on 14000/138493 queries. users per second: 12914.2</pre>"
     },
     "metadata": {}
    },
    {
     "output_type": "display_data",
     "data": {
      "text/plain": "recommendations finished on 15000/138493 queries. users per second: 12998.6",
      "text/html": "<pre>recommendations finished on 15000/138493 queries. users per second: 12998.6</pre>"
     },
     "metadata": {}
    },
    {
     "output_type": "display_data",
     "data": {
      "text/plain": "recommendations finished on 16000/138493 queries. users per second: 13016.2",
      "text/html": "<pre>recommendations finished on 16000/138493 queries. users per second: 13016.2</pre>"
     },
     "metadata": {}
    },
    {
     "output_type": "display_data",
     "data": {
      "text/plain": "recommendations finished on 17000/138493 queries. users per second: 13204.2",
      "text/html": "<pre>recommendations finished on 17000/138493 queries. users per second: 13204.2</pre>"
     },
     "metadata": {}
    },
    {
     "output_type": "display_data",
     "data": {
      "text/plain": "recommendations finished on 18000/138493 queries. users per second: 13323.2",
      "text/html": "<pre>recommendations finished on 18000/138493 queries. users per second: 13323.2</pre>"
     },
     "metadata": {}
    },
    {
     "output_type": "display_data",
     "data": {
      "text/plain": "recommendations finished on 19000/138493 queries. users per second: 13390.7",
      "text/html": "<pre>recommendations finished on 19000/138493 queries. users per second: 13390.7</pre>"
     },
     "metadata": {}
    },
    {
     "output_type": "display_data",
     "data": {
      "text/plain": "recommendations finished on 20000/138493 queries. users per second: 13468",
      "text/html": "<pre>recommendations finished on 20000/138493 queries. users per second: 13468</pre>"
     },
     "metadata": {}
    },
    {
     "output_type": "display_data",
     "data": {
      "text/plain": "recommendations finished on 21000/138493 queries. users per second: 13532.3",
      "text/html": "<pre>recommendations finished on 21000/138493 queries. users per second: 13532.3</pre>"
     },
     "metadata": {}
    },
    {
     "output_type": "display_data",
     "data": {
      "text/plain": "recommendations finished on 22000/138493 queries. users per second: 13539.6",
      "text/html": "<pre>recommendations finished on 22000/138493 queries. users per second: 13539.6</pre>"
     },
     "metadata": {}
    },
    {
     "output_type": "display_data",
     "data": {
      "text/plain": "recommendations finished on 23000/138493 queries. users per second: 13559.6",
      "text/html": "<pre>recommendations finished on 23000/138493 queries. users per second: 13559.6</pre>"
     },
     "metadata": {}
    },
    {
     "output_type": "display_data",
     "data": {
      "text/plain": "recommendations finished on 24000/138493 queries. users per second: 13579.5",
      "text/html": "<pre>recommendations finished on 24000/138493 queries. users per second: 13579.5</pre>"
     },
     "metadata": {}
    },
    {
     "output_type": "display_data",
     "data": {
      "text/plain": "recommendations finished on 25000/138493 queries. users per second: 13617.3",
      "text/html": "<pre>recommendations finished on 25000/138493 queries. users per second: 13617.3</pre>"
     },
     "metadata": {}
    },
    {
     "output_type": "display_data",
     "data": {
      "text/plain": "recommendations finished on 26000/138493 queries. users per second: 13645.9",
      "text/html": "<pre>recommendations finished on 26000/138493 queries. users per second: 13645.9</pre>"
     },
     "metadata": {}
    },
    {
     "output_type": "display_data",
     "data": {
      "text/plain": "recommendations finished on 27000/138493 queries. users per second: 13664.4",
      "text/html": "<pre>recommendations finished on 27000/138493 queries. users per second: 13664.4</pre>"
     },
     "metadata": {}
    },
    {
     "output_type": "display_data",
     "data": {
      "text/plain": "recommendations finished on 28000/138493 queries. users per second: 13774.9",
      "text/html": "<pre>recommendations finished on 28000/138493 queries. users per second: 13774.9</pre>"
     },
     "metadata": {}
    },
    {
     "output_type": "display_data",
     "data": {
      "text/plain": "recommendations finished on 29000/138493 queries. users per second: 13803.3",
      "text/html": "<pre>recommendations finished on 29000/138493 queries. users per second: 13803.3</pre>"
     },
     "metadata": {}
    },
    {
     "output_type": "display_data",
     "data": {
      "text/plain": "recommendations finished on 30000/138493 queries. users per second: 13498.8",
      "text/html": "<pre>recommendations finished on 30000/138493 queries. users per second: 13498.8</pre>"
     },
     "metadata": {}
    },
    {
     "output_type": "display_data",
     "data": {
      "text/plain": "recommendations finished on 31000/138493 queries. users per second: 13261.2",
      "text/html": "<pre>recommendations finished on 31000/138493 queries. users per second: 13261.2</pre>"
     },
     "metadata": {}
    },
    {
     "output_type": "display_data",
     "data": {
      "text/plain": "recommendations finished on 32000/138493 queries. users per second: 13243.1",
      "text/html": "<pre>recommendations finished on 32000/138493 queries. users per second: 13243.1</pre>"
     },
     "metadata": {}
    },
    {
     "output_type": "display_data",
     "data": {
      "text/plain": "recommendations finished on 33000/138493 queries. users per second: 13278.2",
      "text/html": "<pre>recommendations finished on 33000/138493 queries. users per second: 13278.2</pre>"
     },
     "metadata": {}
    },
    {
     "output_type": "display_data",
     "data": {
      "text/plain": "recommendations finished on 34000/138493 queries. users per second: 13238.1",
      "text/html": "<pre>recommendations finished on 34000/138493 queries. users per second: 13238.1</pre>"
     },
     "metadata": {}
    },
    {
     "output_type": "display_data",
     "data": {
      "text/plain": "recommendations finished on 35000/138493 queries. users per second: 13037",
      "text/html": "<pre>recommendations finished on 35000/138493 queries. users per second: 13037</pre>"
     },
     "metadata": {}
    },
    {
     "output_type": "display_data",
     "data": {
      "text/plain": "recommendations finished on 36000/138493 queries. users per second: 12829.2",
      "text/html": "<pre>recommendations finished on 36000/138493 queries. users per second: 12829.2</pre>"
     },
     "metadata": {}
    },
    {
     "output_type": "display_data",
     "data": {
      "text/plain": "recommendations finished on 37000/138493 queries. users per second: 12739.6",
      "text/html": "<pre>recommendations finished on 37000/138493 queries. users per second: 12739.6</pre>"
     },
     "metadata": {}
    },
    {
     "output_type": "display_data",
     "data": {
      "text/plain": "recommendations finished on 38000/138493 queries. users per second: 12721.5",
      "text/html": "<pre>recommendations finished on 38000/138493 queries. users per second: 12721.5</pre>"
     },
     "metadata": {}
    },
    {
     "output_type": "display_data",
     "data": {
      "text/plain": "recommendations finished on 39000/138493 queries. users per second: 12754",
      "text/html": "<pre>recommendations finished on 39000/138493 queries. users per second: 12754</pre>"
     },
     "metadata": {}
    },
    {
     "output_type": "display_data",
     "data": {
      "text/plain": "recommendations finished on 40000/138493 queries. users per second: 12744.6",
      "text/html": "<pre>recommendations finished on 40000/138493 queries. users per second: 12744.6</pre>"
     },
     "metadata": {}
    },
    {
     "output_type": "display_data",
     "data": {
      "text/plain": "recommendations finished on 41000/138493 queries. users per second: 12793.2",
      "text/html": "<pre>recommendations finished on 41000/138493 queries. users per second: 12793.2</pre>"
     },
     "metadata": {}
    },
    {
     "output_type": "display_data",
     "data": {
      "text/plain": "recommendations finished on 42000/138493 queries. users per second: 12839.7",
      "text/html": "<pre>recommendations finished on 42000/138493 queries. users per second: 12839.7</pre>"
     },
     "metadata": {}
    },
    {
     "output_type": "display_data",
     "data": {
      "text/plain": "recommendations finished on 43000/138493 queries. users per second: 12886.1",
      "text/html": "<pre>recommendations finished on 43000/138493 queries. users per second: 12886.1</pre>"
     },
     "metadata": {}
    },
    {
     "output_type": "display_data",
     "data": {
      "text/plain": "recommendations finished on 44000/138493 queries. users per second: 12932.3",
      "text/html": "<pre>recommendations finished on 44000/138493 queries. users per second: 12932.3</pre>"
     },
     "metadata": {}
    },
    {
     "output_type": "display_data",
     "data": {
      "text/plain": "recommendations finished on 45000/138493 queries. users per second: 12973.7",
      "text/html": "<pre>recommendations finished on 45000/138493 queries. users per second: 12973.7</pre>"
     },
     "metadata": {}
    },
    {
     "output_type": "display_data",
     "data": {
      "text/plain": "recommendations finished on 46000/138493 queries. users per second: 13033.2",
      "text/html": "<pre>recommendations finished on 46000/138493 queries. users per second: 13033.2</pre>"
     },
     "metadata": {}
    },
    {
     "output_type": "display_data",
     "data": {
      "text/plain": "recommendations finished on 47000/138493 queries. users per second: 13092.4",
      "text/html": "<pre>recommendations finished on 47000/138493 queries. users per second: 13092.4</pre>"
     },
     "metadata": {}
    },
    {
     "output_type": "display_data",
     "data": {
      "text/plain": "recommendations finished on 48000/138493 queries. users per second: 13088.2",
      "text/html": "<pre>recommendations finished on 48000/138493 queries. users per second: 13088.2</pre>"
     },
     "metadata": {}
    },
    {
     "output_type": "display_data",
     "data": {
      "text/plain": "recommendations finished on 49000/138493 queries. users per second: 13082.4",
      "text/html": "<pre>recommendations finished on 49000/138493 queries. users per second: 13082.4</pre>"
     },
     "metadata": {}
    },
    {
     "output_type": "display_data",
     "data": {
      "text/plain": "recommendations finished on 50000/138493 queries. users per second: 13062.6",
      "text/html": "<pre>recommendations finished on 50000/138493 queries. users per second: 13062.6</pre>"
     },
     "metadata": {}
    },
    {
     "output_type": "display_data",
     "data": {
      "text/plain": "recommendations finished on 51000/138493 queries. users per second: 13009.7",
      "text/html": "<pre>recommendations finished on 51000/138493 queries. users per second: 13009.7</pre>"
     },
     "metadata": {}
    },
    {
     "output_type": "display_data",
     "data": {
      "text/plain": "recommendations finished on 52000/138493 queries. users per second: 13036.8",
      "text/html": "<pre>recommendations finished on 52000/138493 queries. users per second: 13036.8</pre>"
     },
     "metadata": {}
    },
    {
     "output_type": "display_data",
     "data": {
      "text/plain": "recommendations finished on 53000/138493 queries. users per second: 13074.7",
      "text/html": "<pre>recommendations finished on 53000/138493 queries. users per second: 13074.7</pre>"
     },
     "metadata": {}
    },
    {
     "output_type": "display_data",
     "data": {
      "text/plain": "recommendations finished on 54000/138493 queries. users per second: 13102.3",
      "text/html": "<pre>recommendations finished on 54000/138493 queries. users per second: 13102.3</pre>"
     },
     "metadata": {}
    },
    {
     "output_type": "display_data",
     "data": {
      "text/plain": "recommendations finished on 55000/138493 queries. users per second: 13131.7",
      "text/html": "<pre>recommendations finished on 55000/138493 queries. users per second: 13131.7</pre>"
     },
     "metadata": {}
    },
    {
     "output_type": "display_data",
     "data": {
      "text/plain": "recommendations finished on 56000/138493 queries. users per second: 13172.8",
      "text/html": "<pre>recommendations finished on 56000/138493 queries. users per second: 13172.8</pre>"
     },
     "metadata": {}
    },
    {
     "output_type": "display_data",
     "data": {
      "text/plain": "recommendations finished on 57000/138493 queries. users per second: 13195.3",
      "text/html": "<pre>recommendations finished on 57000/138493 queries. users per second: 13195.3</pre>"
     },
     "metadata": {}
    },
    {
     "output_type": "display_data",
     "data": {
      "text/plain": "recommendations finished on 58000/138493 queries. users per second: 13216.1",
      "text/html": "<pre>recommendations finished on 58000/138493 queries. users per second: 13216.1</pre>"
     },
     "metadata": {}
    },
    {
     "output_type": "display_data",
     "data": {
      "text/plain": "recommendations finished on 59000/138493 queries. users per second: 13243.6",
      "text/html": "<pre>recommendations finished on 59000/138493 queries. users per second: 13243.6</pre>"
     },
     "metadata": {}
    },
    {
     "output_type": "display_data",
     "data": {
      "text/plain": "recommendations finished on 60000/138493 queries. users per second: 13291.5",
      "text/html": "<pre>recommendations finished on 60000/138493 queries. users per second: 13291.5</pre>"
     },
     "metadata": {}
    },
    {
     "output_type": "display_data",
     "data": {
      "text/plain": "recommendations finished on 61000/138493 queries. users per second: 13338.2",
      "text/html": "<pre>recommendations finished on 61000/138493 queries. users per second: 13338.2</pre>"
     },
     "metadata": {}
    },
    {
     "output_type": "display_data",
     "data": {
      "text/plain": "recommendations finished on 62000/138493 queries. users per second: 13321.5",
      "text/html": "<pre>recommendations finished on 62000/138493 queries. users per second: 13321.5</pre>"
     },
     "metadata": {}
    },
    {
     "output_type": "display_data",
     "data": {
      "text/plain": "recommendations finished on 63000/138493 queries. users per second: 13299.2",
      "text/html": "<pre>recommendations finished on 63000/138493 queries. users per second: 13299.2</pre>"
     },
     "metadata": {}
    },
    {
     "output_type": "display_data",
     "data": {
      "text/plain": "recommendations finished on 64000/138493 queries. users per second: 13321.4",
      "text/html": "<pre>recommendations finished on 64000/138493 queries. users per second: 13321.4</pre>"
     },
     "metadata": {}
    },
    {
     "output_type": "display_data",
     "data": {
      "text/plain": "recommendations finished on 65000/138493 queries. users per second: 13297.7",
      "text/html": "<pre>recommendations finished on 65000/138493 queries. users per second: 13297.7</pre>"
     },
     "metadata": {}
    },
    {
     "output_type": "display_data",
     "data": {
      "text/plain": "recommendations finished on 66000/138493 queries. users per second: 13222.2",
      "text/html": "<pre>recommendations finished on 66000/138493 queries. users per second: 13222.2</pre>"
     },
     "metadata": {}
    },
    {
     "output_type": "display_data",
     "data": {
      "text/plain": "recommendations finished on 67000/138493 queries. users per second: 13158.8",
      "text/html": "<pre>recommendations finished on 67000/138493 queries. users per second: 13158.8</pre>"
     },
     "metadata": {}
    },
    {
     "output_type": "display_data",
     "data": {
      "text/plain": "recommendations finished on 68000/138493 queries. users per second: 13150.3",
      "text/html": "<pre>recommendations finished on 68000/138493 queries. users per second: 13150.3</pre>"
     },
     "metadata": {}
    },
    {
     "output_type": "display_data",
     "data": {
      "text/plain": "recommendations finished on 69000/138493 queries. users per second: 13157.5",
      "text/html": "<pre>recommendations finished on 69000/138493 queries. users per second: 13157.5</pre>"
     },
     "metadata": {}
    },
    {
     "output_type": "display_data",
     "data": {
      "text/plain": "recommendations finished on 70000/138493 queries. users per second: 12874.1",
      "text/html": "<pre>recommendations finished on 70000/138493 queries. users per second: 12874.1</pre>"
     },
     "metadata": {}
    },
    {
     "output_type": "display_data",
     "data": {
      "text/plain": "recommendations finished on 71000/138493 queries. users per second: 12886.1",
      "text/html": "<pre>recommendations finished on 71000/138493 queries. users per second: 12886.1</pre>"
     },
     "metadata": {}
    },
    {
     "output_type": "display_data",
     "data": {
      "text/plain": "recommendations finished on 72000/138493 queries. users per second: 12904.6",
      "text/html": "<pre>recommendations finished on 72000/138493 queries. users per second: 12904.6</pre>"
     },
     "metadata": {}
    },
    {
     "output_type": "display_data",
     "data": {
      "text/plain": "recommendations finished on 73000/138493 queries. users per second: 12919.4",
      "text/html": "<pre>recommendations finished on 73000/138493 queries. users per second: 12919.4</pre>"
     },
     "metadata": {}
    },
    {
     "output_type": "display_data",
     "data": {
      "text/plain": "recommendations finished on 74000/138493 queries. users per second: 12915.2",
      "text/html": "<pre>recommendations finished on 74000/138493 queries. users per second: 12915.2</pre>"
     },
     "metadata": {}
    },
    {
     "output_type": "display_data",
     "data": {
      "text/plain": "recommendations finished on 75000/138493 queries. users per second: 12926.6",
      "text/html": "<pre>recommendations finished on 75000/138493 queries. users per second: 12926.6</pre>"
     },
     "metadata": {}
    },
    {
     "output_type": "display_data",
     "data": {
      "text/plain": "recommendations finished on 76000/138493 queries. users per second: 12950.5",
      "text/html": "<pre>recommendations finished on 76000/138493 queries. users per second: 12950.5</pre>"
     },
     "metadata": {}
    },
    {
     "output_type": "display_data",
     "data": {
      "text/plain": "recommendations finished on 77000/138493 queries. users per second: 12943.5",
      "text/html": "<pre>recommendations finished on 77000/138493 queries. users per second: 12943.5</pre>"
     },
     "metadata": {}
    },
    {
     "output_type": "display_data",
     "data": {
      "text/plain": "recommendations finished on 78000/138493 queries. users per second: 12966.9",
      "text/html": "<pre>recommendations finished on 78000/138493 queries. users per second: 12966.9</pre>"
     },
     "metadata": {}
    },
    {
     "output_type": "display_data",
     "data": {
      "text/plain": "recommendations finished on 79000/138493 queries. users per second: 12980.3",
      "text/html": "<pre>recommendations finished on 79000/138493 queries. users per second: 12980.3</pre>"
     },
     "metadata": {}
    },
    {
     "output_type": "display_data",
     "data": {
      "text/plain": "recommendations finished on 80000/138493 queries. users per second: 13000.2",
      "text/html": "<pre>recommendations finished on 80000/138493 queries. users per second: 13000.2</pre>"
     },
     "metadata": {}
    },
    {
     "output_type": "display_data",
     "data": {
      "text/plain": "recommendations finished on 81000/138493 queries. users per second: 13024",
      "text/html": "<pre>recommendations finished on 81000/138493 queries. users per second: 13024</pre>"
     },
     "metadata": {}
    },
    {
     "output_type": "display_data",
     "data": {
      "text/plain": "recommendations finished on 82000/138493 queries. users per second: 13047.7",
      "text/html": "<pre>recommendations finished on 82000/138493 queries. users per second: 13047.7</pre>"
     },
     "metadata": {}
    },
    {
     "output_type": "display_data",
     "data": {
      "text/plain": "recommendations finished on 83000/138493 queries. users per second: 13072.1",
      "text/html": "<pre>recommendations finished on 83000/138493 queries. users per second: 13072.1</pre>"
     },
     "metadata": {}
    },
    {
     "output_type": "display_data",
     "data": {
      "text/plain": "recommendations finished on 84000/138493 queries. users per second: 13098.8",
      "text/html": "<pre>recommendations finished on 84000/138493 queries. users per second: 13098.8</pre>"
     },
     "metadata": {}
    },
    {
     "output_type": "display_data",
     "data": {
      "text/plain": "recommendations finished on 85000/138493 queries. users per second: 13139.7",
      "text/html": "<pre>recommendations finished on 85000/138493 queries. users per second: 13139.7</pre>"
     },
     "metadata": {}
    },
    {
     "output_type": "display_data",
     "data": {
      "text/plain": "recommendations finished on 86000/138493 queries. users per second: 13100.8",
      "text/html": "<pre>recommendations finished on 86000/138493 queries. users per second: 13100.8</pre>"
     },
     "metadata": {}
    },
    {
     "output_type": "display_data",
     "data": {
      "text/plain": "recommendations finished on 87000/138493 queries. users per second: 13089.9",
      "text/html": "<pre>recommendations finished on 87000/138493 queries. users per second: 13089.9</pre>"
     },
     "metadata": {}
    },
    {
     "output_type": "display_data",
     "data": {
      "text/plain": "recommendations finished on 88000/138493 queries. users per second: 13085.7",
      "text/html": "<pre>recommendations finished on 88000/138493 queries. users per second: 13085.7</pre>"
     },
     "metadata": {}
    },
    {
     "output_type": "display_data",
     "data": {
      "text/plain": "recommendations finished on 89000/138493 queries. users per second: 13042.4",
      "text/html": "<pre>recommendations finished on 89000/138493 queries. users per second: 13042.4</pre>"
     },
     "metadata": {}
    },
    {
     "output_type": "display_data",
     "data": {
      "text/plain": "recommendations finished on 90000/138493 queries. users per second: 13039.9",
      "text/html": "<pre>recommendations finished on 90000/138493 queries. users per second: 13039.9</pre>"
     },
     "metadata": {}
    },
    {
     "output_type": "display_data",
     "data": {
      "text/plain": "recommendations finished on 91000/138493 queries. users per second: 13046.9",
      "text/html": "<pre>recommendations finished on 91000/138493 queries. users per second: 13046.9</pre>"
     },
     "metadata": {}
    },
    {
     "output_type": "display_data",
     "data": {
      "text/plain": "recommendations finished on 92000/138493 queries. users per second: 13071.8",
      "text/html": "<pre>recommendations finished on 92000/138493 queries. users per second: 13071.8</pre>"
     },
     "metadata": {}
    },
    {
     "output_type": "display_data",
     "data": {
      "text/plain": "recommendations finished on 93000/138493 queries. users per second: 13099.2",
      "text/html": "<pre>recommendations finished on 93000/138493 queries. users per second: 13099.2</pre>"
     },
     "metadata": {}
    },
    {
     "output_type": "display_data",
     "data": {
      "text/plain": "recommendations finished on 94000/138493 queries. users per second: 13119.1",
      "text/html": "<pre>recommendations finished on 94000/138493 queries. users per second: 13119.1</pre>"
     },
     "metadata": {}
    },
    {
     "output_type": "display_data",
     "data": {
      "text/plain": "recommendations finished on 95000/138493 queries. users per second: 13137.8",
      "text/html": "<pre>recommendations finished on 95000/138493 queries. users per second: 13137.8</pre>"
     },
     "metadata": {}
    },
    {
     "output_type": "display_data",
     "data": {
      "text/plain": "recommendations finished on 96000/138493 queries. users per second: 13150.7",
      "text/html": "<pre>recommendations finished on 96000/138493 queries. users per second: 13150.7</pre>"
     },
     "metadata": {}
    },
    {
     "output_type": "display_data",
     "data": {
      "text/plain": "recommendations finished on 97000/138493 queries. users per second: 13169.1",
      "text/html": "<pre>recommendations finished on 97000/138493 queries. users per second: 13169.1</pre>"
     },
     "metadata": {}
    },
    {
     "output_type": "display_data",
     "data": {
      "text/plain": "recommendations finished on 98000/138493 queries. users per second: 13192.8",
      "text/html": "<pre>recommendations finished on 98000/138493 queries. users per second: 13192.8</pre>"
     },
     "metadata": {}
    },
    {
     "output_type": "display_data",
     "data": {
      "text/plain": "recommendations finished on 99000/138493 queries. users per second: 13209.4",
      "text/html": "<pre>recommendations finished on 99000/138493 queries. users per second: 13209.4</pre>"
     },
     "metadata": {}
    },
    {
     "output_type": "display_data",
     "data": {
      "text/plain": "recommendations finished on 100000/138493 queries. users per second: 13243",
      "text/html": "<pre>recommendations finished on 100000/138493 queries. users per second: 13243</pre>"
     },
     "metadata": {}
    },
    {
     "output_type": "display_data",
     "data": {
      "text/plain": "recommendations finished on 101000/138493 queries. users per second: 13271.6",
      "text/html": "<pre>recommendations finished on 101000/138493 queries. users per second: 13271.6</pre>"
     },
     "metadata": {}
    },
    {
     "output_type": "display_data",
     "data": {
      "text/plain": "recommendations finished on 102000/138493 queries. users per second: 13240.3",
      "text/html": "<pre>recommendations finished on 102000/138493 queries. users per second: 13240.3</pre>"
     },
     "metadata": {}
    },
    {
     "output_type": "display_data",
     "data": {
      "text/plain": "recommendations finished on 103000/138493 queries. users per second: 13238",
      "text/html": "<pre>recommendations finished on 103000/138493 queries. users per second: 13238</pre>"
     },
     "metadata": {}
    },
    {
     "output_type": "display_data",
     "data": {
      "text/plain": "recommendations finished on 104000/138493 queries. users per second: 13247.9",
      "text/html": "<pre>recommendations finished on 104000/138493 queries. users per second: 13247.9</pre>"
     },
     "metadata": {}
    },
    {
     "output_type": "display_data",
     "data": {
      "text/plain": "recommendations finished on 105000/138493 queries. users per second: 13256.1",
      "text/html": "<pre>recommendations finished on 105000/138493 queries. users per second: 13256.1</pre>"
     },
     "metadata": {}
    },
    {
     "output_type": "display_data",
     "data": {
      "text/plain": "recommendations finished on 106000/138493 queries. users per second: 13226.2",
      "text/html": "<pre>recommendations finished on 106000/138493 queries. users per second: 13226.2</pre>"
     },
     "metadata": {}
    },
    {
     "output_type": "display_data",
     "data": {
      "text/plain": "recommendations finished on 107000/138493 queries. users per second: 13172.7",
      "text/html": "<pre>recommendations finished on 107000/138493 queries. users per second: 13172.7</pre>"
     },
     "metadata": {}
    },
    {
     "output_type": "display_data",
     "data": {
      "text/plain": "recommendations finished on 108000/138493 queries. users per second: 13172.9",
      "text/html": "<pre>recommendations finished on 108000/138493 queries. users per second: 13172.9</pre>"
     },
     "metadata": {}
    },
    {
     "output_type": "display_data",
     "data": {
      "text/plain": "recommendations finished on 109000/138493 queries. users per second: 13185.9",
      "text/html": "<pre>recommendations finished on 109000/138493 queries. users per second: 13185.9</pre>"
     },
     "metadata": {}
    },
    {
     "output_type": "display_data",
     "data": {
      "text/plain": "recommendations finished on 110000/138493 queries. users per second: 13199.9",
      "text/html": "<pre>recommendations finished on 110000/138493 queries. users per second: 13199.9</pre>"
     },
     "metadata": {}
    },
    {
     "output_type": "display_data",
     "data": {
      "text/plain": "recommendations finished on 111000/138493 queries. users per second: 13213.8",
      "text/html": "<pre>recommendations finished on 111000/138493 queries. users per second: 13213.8</pre>"
     },
     "metadata": {}
    },
    {
     "output_type": "display_data",
     "data": {
      "text/plain": "recommendations finished on 112000/138493 queries. users per second: 13229.2",
      "text/html": "<pre>recommendations finished on 112000/138493 queries. users per second: 13229.2</pre>"
     },
     "metadata": {}
    },
    {
     "output_type": "display_data",
     "data": {
      "text/plain": "recommendations finished on 113000/138493 queries. users per second: 13245.3",
      "text/html": "<pre>recommendations finished on 113000/138493 queries. users per second: 13245.3</pre>"
     },
     "metadata": {}
    },
    {
     "output_type": "display_data",
     "data": {
      "text/plain": "recommendations finished on 114000/138493 queries. users per second: 13251.6",
      "text/html": "<pre>recommendations finished on 114000/138493 queries. users per second: 13251.6</pre>"
     },
     "metadata": {}
    },
    {
     "output_type": "display_data",
     "data": {
      "text/plain": "recommendations finished on 115000/138493 queries. users per second: 13257.5",
      "text/html": "<pre>recommendations finished on 115000/138493 queries. users per second: 13257.5</pre>"
     },
     "metadata": {}
    },
    {
     "output_type": "display_data",
     "data": {
      "text/plain": "recommendations finished on 116000/138493 queries. users per second: 13260.3",
      "text/html": "<pre>recommendations finished on 116000/138493 queries. users per second: 13260.3</pre>"
     },
     "metadata": {}
    },
    {
     "output_type": "display_data",
     "data": {
      "text/plain": "recommendations finished on 117000/138493 queries. users per second: 13247.8",
      "text/html": "<pre>recommendations finished on 117000/138493 queries. users per second: 13247.8</pre>"
     },
     "metadata": {}
    },
    {
     "output_type": "display_data",
     "data": {
      "text/plain": "recommendations finished on 118000/138493 queries. users per second: 13241.9",
      "text/html": "<pre>recommendations finished on 118000/138493 queries. users per second: 13241.9</pre>"
     },
     "metadata": {}
    },
    {
     "output_type": "display_data",
     "data": {
      "text/plain": "recommendations finished on 119000/138493 queries. users per second: 13249.1",
      "text/html": "<pre>recommendations finished on 119000/138493 queries. users per second: 13249.1</pre>"
     },
     "metadata": {}
    },
    {
     "output_type": "display_data",
     "data": {
      "text/plain": "recommendations finished on 120000/138493 queries. users per second: 13255.7",
      "text/html": "<pre>recommendations finished on 120000/138493 queries. users per second: 13255.7</pre>"
     },
     "metadata": {}
    },
    {
     "output_type": "display_data",
     "data": {
      "text/plain": "recommendations finished on 121000/138493 queries. users per second: 13265.3",
      "text/html": "<pre>recommendations finished on 121000/138493 queries. users per second: 13265.3</pre>"
     },
     "metadata": {}
    },
    {
     "output_type": "display_data",
     "data": {
      "text/plain": "recommendations finished on 122000/138493 queries. users per second: 13126.2",
      "text/html": "<pre>recommendations finished on 122000/138493 queries. users per second: 13126.2</pre>"
     },
     "metadata": {}
    },
    {
     "output_type": "display_data",
     "data": {
      "text/plain": "recommendations finished on 123000/138493 queries. users per second: 13106.7",
      "text/html": "<pre>recommendations finished on 123000/138493 queries. users per second: 13106.7</pre>"
     },
     "metadata": {}
    },
    {
     "output_type": "display_data",
     "data": {
      "text/plain": "recommendations finished on 124000/138493 queries. users per second: 13097.2",
      "text/html": "<pre>recommendations finished on 124000/138493 queries. users per second: 13097.2</pre>"
     },
     "metadata": {}
    },
    {
     "output_type": "display_data",
     "data": {
      "text/plain": "recommendations finished on 125000/138493 queries. users per second: 13106.7",
      "text/html": "<pre>recommendations finished on 125000/138493 queries. users per second: 13106.7</pre>"
     },
     "metadata": {}
    },
    {
     "output_type": "display_data",
     "data": {
      "text/plain": "recommendations finished on 126000/138493 queries. users per second: 13104.9",
      "text/html": "<pre>recommendations finished on 126000/138493 queries. users per second: 13104.9</pre>"
     },
     "metadata": {}
    },
    {
     "output_type": "display_data",
     "data": {
      "text/plain": "recommendations finished on 127000/138493 queries. users per second: 13120.8",
      "text/html": "<pre>recommendations finished on 127000/138493 queries. users per second: 13120.8</pre>"
     },
     "metadata": {}
    },
    {
     "output_type": "display_data",
     "data": {
      "text/plain": "recommendations finished on 128000/138493 queries. users per second: 13124.6",
      "text/html": "<pre>recommendations finished on 128000/138493 queries. users per second: 13124.6</pre>"
     },
     "metadata": {}
    },
    {
     "output_type": "display_data",
     "data": {
      "text/plain": "recommendations finished on 129000/138493 queries. users per second: 13134.8",
      "text/html": "<pre>recommendations finished on 129000/138493 queries. users per second: 13134.8</pre>"
     },
     "metadata": {}
    },
    {
     "output_type": "display_data",
     "data": {
      "text/plain": "recommendations finished on 130000/138493 queries. users per second: 13140.5",
      "text/html": "<pre>recommendations finished on 130000/138493 queries. users per second: 13140.5</pre>"
     },
     "metadata": {}
    },
    {
     "output_type": "display_data",
     "data": {
      "text/plain": "recommendations finished on 131000/138493 queries. users per second: 13149.9",
      "text/html": "<pre>recommendations finished on 131000/138493 queries. users per second: 13149.9</pre>"
     },
     "metadata": {}
    },
    {
     "output_type": "display_data",
     "data": {
      "text/plain": "recommendations finished on 132000/138493 queries. users per second: 13161.1",
      "text/html": "<pre>recommendations finished on 132000/138493 queries. users per second: 13161.1</pre>"
     },
     "metadata": {}
    },
    {
     "output_type": "display_data",
     "data": {
      "text/plain": "recommendations finished on 133000/138493 queries. users per second: 13163.5",
      "text/html": "<pre>recommendations finished on 133000/138493 queries. users per second: 13163.5</pre>"
     },
     "metadata": {}
    },
    {
     "output_type": "display_data",
     "data": {
      "text/plain": "recommendations finished on 134000/138493 queries. users per second: 13154.9",
      "text/html": "<pre>recommendations finished on 134000/138493 queries. users per second: 13154.9</pre>"
     },
     "metadata": {}
    },
    {
     "output_type": "display_data",
     "data": {
      "text/plain": "recommendations finished on 135000/138493 queries. users per second: 13158.3",
      "text/html": "<pre>recommendations finished on 135000/138493 queries. users per second: 13158.3</pre>"
     },
     "metadata": {}
    },
    {
     "output_type": "display_data",
     "data": {
      "text/plain": "recommendations finished on 136000/138493 queries. users per second: 13131.9",
      "text/html": "<pre>recommendations finished on 136000/138493 queries. users per second: 13131.9</pre>"
     },
     "metadata": {}
    },
    {
     "output_type": "display_data",
     "data": {
      "text/plain": "recommendations finished on 137000/138493 queries. users per second: 13133.5",
      "text/html": "<pre>recommendations finished on 137000/138493 queries. users per second: 13133.5</pre>"
     },
     "metadata": {}
    },
    {
     "output_type": "display_data",
     "data": {
      "text/plain": "recommendations finished on 138000/138493 queries. users per second: 13144.3",
      "text/html": "<pre>recommendations finished on 138000/138493 queries. users per second: 13144.3</pre>"
     },
     "metadata": {}
    }
   ],
   "source": [
    "results = model.recommend()"
   ]
  },
  {
   "cell_type": "code",
   "execution_count": 7,
   "metadata": {},
   "outputs": [
    {
     "output_type": "execute_result",
     "data": {
      "text/plain": [
       "Columns:\n",
       "\tuserId\tint\n",
       "\tmovieId\tint\n",
       "\tscore\tfloat\n",
       "\trank\tint\n",
       "\n",
       "Rows: 1384930\n",
       "\n",
       "Data:\n",
       "+--------+---------+---------------------+------+\n",
       "| userId | movieId |        score        | rank |\n",
       "+--------+---------+---------------------+------+\n",
       "|   1    |   1682  |  0.0900815691266741 |  1   |\n",
       "|   1    |   2115  |  0.0881017940385001 |  2   |\n",
       "|   1    |   3578  | 0.08415531294686454 |  3   |\n",
       "|   1    |   1265  | 0.08408990144729614 |  4   |\n",
       "|   1    |   1580  | 0.08351772342409407 |  5   |\n",
       "|   1    |   2571  | 0.08207663297653198 |  6   |\n",
       "|   1    |   1527  | 0.08185570853097099 |  7   |\n",
       "|   1    |   1270  | 0.07933442490441459 |  8   |\n",
       "|   1    |   3793  | 0.07469871214457921 |  9   |\n",
       "|   1    |   5349  |  0.0720384212902614 |  10  |\n",
       "+--------+---------+---------------------+------+\n",
       "[1384930 rows x 4 columns]\n",
       "Note: Only the head of the SFrame is printed.\n",
       "You can use print_rows(num_rows=m, num_columns=n) to print more rows and columns."
      ],
      "text/html": "<div style=\"max-height:1000px;max-width:1500px;overflow:auto;\"><table frame=\"box\" rules=\"cols\">\n    <tr>\n        <th style=\"padding-left: 1em; padding-right: 1em; text-align: center\">userId</th>\n        <th style=\"padding-left: 1em; padding-right: 1em; text-align: center\">movieId</th>\n        <th style=\"padding-left: 1em; padding-right: 1em; text-align: center\">score</th>\n        <th style=\"padding-left: 1em; padding-right: 1em; text-align: center\">rank</th>\n    </tr>\n    <tr>\n        <td style=\"padding-left: 1em; padding-right: 1em; text-align: center; vertical-align: top\">1</td>\n        <td style=\"padding-left: 1em; padding-right: 1em; text-align: center; vertical-align: top\">1682</td>\n        <td style=\"padding-left: 1em; padding-right: 1em; text-align: center; vertical-align: top\">0.0900815691266741</td>\n        <td style=\"padding-left: 1em; padding-right: 1em; text-align: center; vertical-align: top\">1</td>\n    </tr>\n    <tr>\n        <td style=\"padding-left: 1em; padding-right: 1em; text-align: center; vertical-align: top\">1</td>\n        <td style=\"padding-left: 1em; padding-right: 1em; text-align: center; vertical-align: top\">2115</td>\n        <td style=\"padding-left: 1em; padding-right: 1em; text-align: center; vertical-align: top\">0.0881017940385001</td>\n        <td style=\"padding-left: 1em; padding-right: 1em; text-align: center; vertical-align: top\">2</td>\n    </tr>\n    <tr>\n        <td style=\"padding-left: 1em; padding-right: 1em; text-align: center; vertical-align: top\">1</td>\n        <td style=\"padding-left: 1em; padding-right: 1em; text-align: center; vertical-align: top\">3578</td>\n        <td style=\"padding-left: 1em; padding-right: 1em; text-align: center; vertical-align: top\">0.08415531294686454</td>\n        <td style=\"padding-left: 1em; padding-right: 1em; text-align: center; vertical-align: top\">3</td>\n    </tr>\n    <tr>\n        <td style=\"padding-left: 1em; padding-right: 1em; text-align: center; vertical-align: top\">1</td>\n        <td style=\"padding-left: 1em; padding-right: 1em; text-align: center; vertical-align: top\">1265</td>\n        <td style=\"padding-left: 1em; padding-right: 1em; text-align: center; vertical-align: top\">0.08408990144729614</td>\n        <td style=\"padding-left: 1em; padding-right: 1em; text-align: center; vertical-align: top\">4</td>\n    </tr>\n    <tr>\n        <td style=\"padding-left: 1em; padding-right: 1em; text-align: center; vertical-align: top\">1</td>\n        <td style=\"padding-left: 1em; padding-right: 1em; text-align: center; vertical-align: top\">1580</td>\n        <td style=\"padding-left: 1em; padding-right: 1em; text-align: center; vertical-align: top\">0.08351772342409407</td>\n        <td style=\"padding-left: 1em; padding-right: 1em; text-align: center; vertical-align: top\">5</td>\n    </tr>\n    <tr>\n        <td style=\"padding-left: 1em; padding-right: 1em; text-align: center; vertical-align: top\">1</td>\n        <td style=\"padding-left: 1em; padding-right: 1em; text-align: center; vertical-align: top\">2571</td>\n        <td style=\"padding-left: 1em; padding-right: 1em; text-align: center; vertical-align: top\">0.08207663297653198</td>\n        <td style=\"padding-left: 1em; padding-right: 1em; text-align: center; vertical-align: top\">6</td>\n    </tr>\n    <tr>\n        <td style=\"padding-left: 1em; padding-right: 1em; text-align: center; vertical-align: top\">1</td>\n        <td style=\"padding-left: 1em; padding-right: 1em; text-align: center; vertical-align: top\">1527</td>\n        <td style=\"padding-left: 1em; padding-right: 1em; text-align: center; vertical-align: top\">0.08185570853097099</td>\n        <td style=\"padding-left: 1em; padding-right: 1em; text-align: center; vertical-align: top\">7</td>\n    </tr>\n    <tr>\n        <td style=\"padding-left: 1em; padding-right: 1em; text-align: center; vertical-align: top\">1</td>\n        <td style=\"padding-left: 1em; padding-right: 1em; text-align: center; vertical-align: top\">1270</td>\n        <td style=\"padding-left: 1em; padding-right: 1em; text-align: center; vertical-align: top\">0.07933442490441459</td>\n        <td style=\"padding-left: 1em; padding-right: 1em; text-align: center; vertical-align: top\">8</td>\n    </tr>\n    <tr>\n        <td style=\"padding-left: 1em; padding-right: 1em; text-align: center; vertical-align: top\">1</td>\n        <td style=\"padding-left: 1em; padding-right: 1em; text-align: center; vertical-align: top\">3793</td>\n        <td style=\"padding-left: 1em; padding-right: 1em; text-align: center; vertical-align: top\">0.07469871214457921</td>\n        <td style=\"padding-left: 1em; padding-right: 1em; text-align: center; vertical-align: top\">9</td>\n    </tr>\n    <tr>\n        <td style=\"padding-left: 1em; padding-right: 1em; text-align: center; vertical-align: top\">1</td>\n        <td style=\"padding-left: 1em; padding-right: 1em; text-align: center; vertical-align: top\">5349</td>\n        <td style=\"padding-left: 1em; padding-right: 1em; text-align: center; vertical-align: top\">0.0720384212902614</td>\n        <td style=\"padding-left: 1em; padding-right: 1em; text-align: center; vertical-align: top\">10</td>\n    </tr>\n</table>\n[1384930 rows x 4 columns]<br/>Note: Only the head of the SFrame is printed.<br/>You can use print_rows(num_rows=m, num_columns=n) to print more rows and columns.\n</div>"
     },
     "metadata": {},
     "execution_count": 7
    }
   ],
   "source": [
    "results"
   ]
  },
  {
   "source": [
    "## Saving and loading models\n",
    "\n",
    "The model can be saved for later use, either on the local machine or in an AWS S3 bucket. The saved model sits in its own directory, and can be loaded back in later to make more predictions."
   ],
   "cell_type": "markdown",
   "metadata": {}
  },
  {
   "cell_type": "code",
   "execution_count": 8,
   "metadata": {},
   "outputs": [],
   "source": [
    "model.save(\"../models/recommendations.model\")"
   ]
  },
  {
   "source": [
    "Like other models in Turi Create, we can load the model back:\n",
    "\n"
   ],
   "cell_type": "markdown",
   "metadata": {}
  },
  {
   "cell_type": "code",
   "execution_count": 9,
   "metadata": {},
   "outputs": [],
   "source": [
    "model = tc.load_model(\"../models/recommendations.model\")"
   ]
  },
  {
   "cell_type": "code",
   "execution_count": null,
   "metadata": {},
   "outputs": [],
   "source": []
  }
 ]
}